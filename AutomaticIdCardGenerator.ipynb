{
  "nbformat": 4,
  "nbformat_minor": 0,
  "metadata": {
    "colab": {
      "name": "AutomaticIdCardGenerator",
      "provenance": [],
      "authorship_tag": "ABX9TyP/c8YSO1bAClualm2y+PeK",
      "include_colab_link": true
    },
    "kernelspec": {
      "name": "python3",
      "display_name": "Python 3"
    },
    "language_info": {
      "name": "python"
    }
  },
  "cells": [
    {
      "cell_type": "markdown",
      "metadata": {
        "id": "view-in-github",
        "colab_type": "text"
      },
      "source": [
        "<a href=\"https://colab.research.google.com/github/Javeria-Arif/AutomaticIDCardUsingPythonCV2/blob/main/AutomaticIdCardGenerator.ipynb\" target=\"_parent\"><img src=\"https://colab.research.google.com/assets/colab-badge.svg\" alt=\"Open In Colab\"/></a>"
      ]
    },
    {
      "cell_type": "code",
      "execution_count": null,
      "metadata": {
        "id": "CweOlIPjp74Z"
      },
      "outputs": [],
      "source": [
        "import cv2\n",
        "from google.colab.patches import cv2_imshow\n",
        "\n",
        "def id_card_generate(organization_logo, organization_abbr, department, fee_price,user_full_name,user_profile_pic,roll_num,issue_date,expiry_date): \n",
        "  bg = cv2.imread('bg1.jpg')\n",
        "  #organization_logo = cv2.imread('logo.jpg')\n",
        "  x,y,w,h = 20,20,200,200\n",
        "  bg[y:y+h, x:x+w] = cv2.resize(organization_logo, (w,h))\n",
        "\n",
        "  # Put some text\n",
        "  #uni = \"NED UET\"\n",
        "  org, font, scale, color, thick = (250,100), cv2.FONT_HERSHEY_TRIPLEX , 2, 0, 2\n",
        "  cv2.putText(bg, organization_abbr, org, font, scale, color, thick)\n",
        "\n",
        "  #dept = \"CIS Department \"\n",
        "  org, font, scale, color, thick = (250,200), cv2.FONT_HERSHEY_TRIPLEX, 1.5,0, 2\n",
        "  cv2.putText(bg, department, org, font, scale, color, thick)\n",
        "\n",
        "\n",
        "  #name = \"\"\n",
        "  org, font, scale, color, thick = (80,550), cv2.FONT_HERSHEY_COMPLEX_SMALL , 2,(255,255,255), 3\n",
        "  cv2.putText(bg, user_full_name, org, font, scale, color, thick)\n",
        "\n",
        "\n",
        "  #issue_date = \"May 01 2021\"\n",
        "  org, font, scale, color, thick = (90,600), cv2.FONT_HERSHEY_COMPLEX , 1,(255,255,255), 2\n",
        "  cv2.putText(bg, issue_date, org, font, scale, color, thick)\n",
        "\n",
        "  #amount = \"Rs. 600\"\n",
        "  org, font, scale, color, thick = (100,400), cv2.FONT_HERSHEY_TRIPLEX , 3,0, 2\n",
        "  cv2.putText(bg, fee_price, org, font, scale, color, thick)\n",
        "\n",
        "\n",
        "\n",
        "  org, font, scale, color, thick = (650,550), cv2.FONT_HERSHEY_PLAIN, 2,(255,255,255), 2\n",
        "  cv2.putText(bg, 'EXP DATE:', org, font, scale, color, thick)\n",
        "\n",
        "\n",
        "  #exp_date = \"May 30/21\"\n",
        "  org, font, scale, color, thick = (650,600), cv2.FONT_HERSHEY_COMPLEX , 1,(255,255,255), 2\n",
        "  cv2.putText(bg, expiry_date, org, font, scale, color, thick)\n",
        "\n",
        "\n",
        "\n",
        "  org, font, scale, color, thick = (1000,550), cv2.FONT_HERSHEY_PLAIN, 2,(255,255,255), 2\n",
        "  cv2.putText(bg, 'FROM:', org, font, scale, color, thick)\n",
        "\n",
        "\n",
        "\n",
        "  org, font, scale, color, thick = (1000,600), cv2.FONT_HERSHEY_COMPLEX , 1,(255,255,255), 2\n",
        "  cv2.putText(bg, \"PointPay\", org, font, scale, color, thick)\n",
        "\n",
        "\n",
        "  #user_profile_pic= cv2.imread('download.png')\n",
        "  x,y,w,h = 900,80,300,300\n",
        "  bg[y:y+h, x:x+w] = cv2.resize(user_profile_pic, (w,h))\n",
        "\n",
        "  #roll_num = \"CS-18180\"\n",
        "  org, font, scale, color, thick = (970,400),cv2.FONT_HERSHEY_TRIPLEX,1,0,2\n",
        "  cv2.putText(bg, roll_num, org, font, scale, color, thick)\n",
        "  cv2_imshow(bg)\n"
      ]
    },
    {
      "cell_type": "code",
      "source": [
        "organization_logo = cv2.imread('logo.jpg')\n",
        "organization_abbr = 'NED UET'\n",
        "department = 'CIS Department'\n",
        "fee_price = 'Rs. 600'\n",
        "user_full_name = 'Javeria Arif Khan'\n",
        "roll_num = 'CS-18180'\n",
        "user_profile_pic = cv2.imread('download.png')\n",
        "issue_date = 'March 6, 2022'\n",
        "expiry_date = 'March 30/22'"
      ],
      "metadata": {
        "id": "QwZbNetJqBMb"
      },
      "execution_count": null,
      "outputs": []
    },
    {
      "cell_type": "code",
      "source": [
        "id_card_generate(organization_logo,organization_abbr, department, fee_price,user_full_name,user_profile_pic,roll_num,issue_date,expiry_date)"
      ],
      "metadata": {
        "id": "cfvMgwEdqDoV"
      },
      "execution_count": null,
      "outputs": []
    }
  ]
}